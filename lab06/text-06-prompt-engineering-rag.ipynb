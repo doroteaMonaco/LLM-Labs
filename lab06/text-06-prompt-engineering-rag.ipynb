{
 "cells": [
  {
   "cell_type": "markdown",
   "metadata": {},
   "source": [
    "## Exercise 1: Prompt Engineering\n",
    "\n",
    "Let's consider LLAMA as our starting point. In the following, we see a typical prompt feeding and text generation with LLAMA"
   ]
  },
  {
   "cell_type": "code",
   "execution_count": null,
   "metadata": {},
   "outputs": [],
   "source": [
    "from huggingface_hub import login\n",
    "\n",
    "import torch\n",
    "from transformers import pipeline, AutoTokenizer, AutoModelForCausalLM\n",
    "\n",
    "model_id = \"meta-llama/Llama-3.2-1B\"\n",
    "model = AutoModelForCausalLM.from_pretrained(model_id, torch_dtype=torch.float16, device_map=\"auto\")\n",
    "tokenizer = AutoTokenizer.from_pretrained(model_id)\n",
    "\n",
    "# Assuming model and tokenizer are already loaded\n",
    "device = torch.device(\"cuda\" if torch.cuda.is_available() else \"cpu\")\n",
    "\n",
    "# Move model to the device (GPU if available)\n",
    "model = model.to(device)\n",
    "\n",
    "\n",
    "# Input prompt - Make it clear that you want only the direct answer without any explanations or options\n",
    "prompt = \"\"\"\n",
    "System: You are an expert on world capitals.\n",
    "Respond with only the capital city of the given country. Do not repeat the question.\n",
    "\n",
    "Query: What is the capital of France?\n",
    "Answer:\n",
    "\"\"\"\n",
    "\n",
    "# Tokenize the input\n",
    "inputs = tokenizer(prompt, return_tensors=\"pt\").to('cuda')\n",
    "\n",
    "# Generate a response\n",
    "output = model.generate(\n",
    "    inputs['input_ids'],  # Tokenized input\n",
    "    max_length=100,         # Limit response length to avoid extra text\n",
    "    temperature=0.7,        # Lower temperature to reduce randomness\n",
    "    do_sample=True,        # Disable sampling for deterministic output\n",
    "    pad_token_id=tokenizer.eos_token_id  # Ensure the model doesn't go beyond the end token\n",
    "\n",
    ")\n",
    "\n",
    "# Decode the response into human-readable text\n",
    "response = tokenizer.decode(output[0], skip_special_tokens=True)\n",
    "\n",
    "answer = response.split(\"query:\")[-1].strip()\n",
    "print(\"Response:\", answer)\n",
    "\n"
   ]
  },
  {
   "cell_type": "markdown",
   "metadata": {},
   "source": [
    "### Fitz\n",
    "\n",
    "Reference libraries to install: pip install openai pymupdf faiss-cpu scikit-learn\n",
    "\n",
    "PyMuPDF is a Python library that provides tools for working with PDF files (as well as other document formats like XPS, OpenXPS, CBZ, EPUB, and FB2). It's built on the MuPDF library, a lightweight, high-performance PDF and XPS rendering engine. With PyMuPDF, you can perform various tasks like reading, creating, editing, and extracting content from PDFs, images, and annotations."
   ]
  },
  {
   "cell_type": "code",
   "execution_count": null,
   "metadata": {},
   "outputs": [],
   "source": [
    "import fitz\n",
    "\n",
    "#open an example pdf\n",
    "doc = fitz.open(\"example.pdf\")\n",
    "\n",
    "# Extract text from the first page\n",
    "page = doc.load_page(0)\n",
    "text = page.get_text(\"text\")  # Use 'text' mode to get raw text\n",
    "print(text)\n"
   ]
  },
  {
   "cell_type": "markdown",
   "metadata": {},
   "source": [
    "### Example: Text Summarization\n",
    "\n",
    "Let's ask LLAMA to perform a summarization of the example PDF."
   ]
  },
  {
   "cell_type": "code",
   "execution_count": null,
   "metadata": {},
   "outputs": [],
   "source": [
    "#define the prompt to ask for text summarization. \n",
    "text_summarization_prompt = \"\"      #define your prompt here\n",
    "text = \"\"                           #load here the FULL text of the article\n",
    "p1 =  \"\"\"{PROMPT}. article: {BODY}\"\"\".format(PROMPT=text_summarization_prompt, BODY=text)\n",
    "\n",
    "#feed the prompt to llama\n",
    "#print the result of text summarization into bullets\n",
    "\n",
    "r1 = \"\""
   ]
  },
  {
   "cell_type": "markdown",
   "metadata": {},
   "source": [
    "### Adding a System Prompt\n",
    "\n",
    "Llama was trained with a system message that set the context and persona to assume when solving a task. One of the unsung advantages of open-access models is that you have full control over the system prompt in chat applications. This is essential to specify the behavior of your chat assistant –and even imbue it with some personality–, but it's unreachable in models served behind APIs.\n"
   ]
  },
  {
   "cell_type": "code",
   "execution_count": null,
   "metadata": {},
   "outputs": [],
   "source": [
    "#default standard system message from the Hugging Face blog to the prompt from above\n",
    "system_prompt = \"<<SYS>> You are a helpful, respectful and honest assistant. \\\n",
    "    Always answer as helpfully as possible, while being safe. Your answers should not include any harmful, \\\n",
    "    unethical, racist, sexist, toxic, dangerous, or illegal content. Please ensure that your responses \\\n",
    "    are socially unbiased and positive in nature. If a question does not make any sense, or is not factually \\\n",
    "    coherent, explain why instead of answering something not correct. If you don't know the answer to a question, \\\n",
    "    please don't share false information. <</SYS>>\"\n",
    "\n",
    "#concatenate the system prompt with your pront and get the response\n",
    "p2 = \"\"\n",
    "\n",
    "r2 = \"\"\n",
    "\n",
    "#what changes?"
   ]
  },
  {
   "cell_type": "markdown",
   "metadata": {},
   "source": [
    "### Customizing the System prompt\n",
    "\n",
    "With Llama we have full control over the system prompt. The following experiment will instruct Llama to assume the persona of a researcher tasked with writing a concise brief.\n",
    "\n",
    "Apply the following changes the original system prompt:\n",
    "- Use the researcher persona and specify the tasks to summarize articles.\n",
    "- Remove safety instructions; they are unnecessary since we ask Llama to be truthful to the article.\n"
   ]
  },
  {
   "cell_type": "code",
   "execution_count": 189,
   "metadata": {},
   "outputs": [],
   "source": [
    "new_system_prompt = \"\"\n",
    "\n",
    "p3 = \"\"\n",
    "\n",
    "r3 = \"\""
   ]
  },
  {
   "cell_type": "markdown",
   "metadata": {},
   "source": [
    "### Chain-of-Thought prompting\n",
    "\n",
    "Chain-of-thought is when a prompt is being constructed using a previous prompt answer. For our use case to extract information from text, we will first ask Llama what the article is about and then use the response to ask a second question: what problem does [what the article is about] solve?\n",
    "\n"
   ]
  },
  {
   "cell_type": "code",
   "execution_count": 190,
   "metadata": {},
   "outputs": [],
   "source": [
    "#define a prompt to ask what the article is about\n",
    "\n",
    "p4 = \"\"\n",
    "\n",
    "r4 = \"\"\n",
    "\n",
    "#now embed the result of the previous prompt in a new prompt to ask what that solves\n",
    "\n",
    "p5 = \"\"\n",
    "\n",
    "r5 = \"\"\n",
    "\n",
    "\n"
   ]
  },
  {
   "cell_type": "markdown",
   "metadata": {},
   "source": [
    "### Generating JSONs with Llama\n",
    "\n",
    "Llama needs precise instructions when asking it to generate JSON. In essence, here is what works for me to get valid JSON consistently:\n",
    "\n",
    "- Explicitly state — “ All output must be in valid JSON. Don’t add explanation beyond the JSON” in the system prompt.\n",
    "- Add an “explanation” variable to the JSON example. Llama enjoys explaining its answers. Give it an outlet.\n",
    "- Use the JSON as part of the instruction. See the “in_less_than_ten_words” example below.\n",
    "Change “write the answer” to “output the answer.”\n"
   ]
  },
  {
   "cell_type": "code",
   "execution_count": null,
   "metadata": {},
   "outputs": [],
   "source": [
    "\n",
    "\n",
    "#example addition to a prompt to deal with jsons\n",
    "json_prompt_addition = \"Output must be in valid JSON like the following example {{\\\"topic\\\": topic, \\\"explanation\\\": [in_less_than_ten_words]}}. Output must include only JSON.\"\n",
    "\n",
    "#now generate a prompt by correctly concatenating the system prompt, the json prompt instruction, and an article\n",
    "p6 = \"\"\n",
    "\n",
    "r6 = \"\"\n",
    "\n",
    "#compare the difference between the prompt with the formatting instruction and a regular prompt without formatting instructions. is there any difference?\n",
    "\n",
    "\n"
   ]
  },
  {
   "cell_type": "markdown",
   "metadata": {},
   "source": [
    "### One-to-Many Shot Learning Prompting\n",
    "\n",
    "One-to-Many Shot Learning is a term that refers to a type of machine learning problem where the goal is to learn to recognize many different classes of objects from only one or a few examples of each class. For example, if you have only one image of a cat and one image of a dog, can you train a model to distinguish between cats and dogs in new images? This is a challenging problem because the model has to generalize well from minimal data (source)\n",
    "\n",
    "Important points about the prompts:\n",
    "\n",
    "- The system prompt includes the instructions to output the answer in JSON.\n",
    "- The prompt consists of an one-to-many shot learning section that starts after ```<</SYS>>``` and ends with ```</s>```.  See the prompt template below will make it easier to understand.\n",
    "- The examples are given in JSON because the answers need to be JSON.\n",
    "- The JSON allows defining the response with name, type, and explanation.\n",
    "- The prompt question start with the second ```<s>[INST]``` and end with the last ```[/INST]```\n",
    "\n",
    "```\n",
    "<s>[INST] <<SYS>>\n",
    "SYSTEM MESSAGE\n",
    "<</SYS>>\n",
    "EXAMPLE QUESTION [/INST]\n",
    "EXAMPLE ANSWER(S)\n",
    "</s>\n",
    "<s>[INST]  \n",
    "QUESTION\n",
    "[/INST]\n",
    "```"
   ]
  },
  {
   "cell_type": "code",
   "execution_count": 192,
   "metadata": {},
   "outputs": [],
   "source": [
    "#describe all the main nouns in the example.pdf article\n",
    "\n",
    "#use the following addition for one-to-many prompting exampling\n",
    "nouns = \"\"\"[\\\n",
    "{{\"name\": \"semiconductor\", \"type\": \"industry\", \"explanation\": \"Companies engaged in the design and fabrication of semiconductors and semiconductor devices\"}},\\\n",
    "{{\"name\": \"NBA\", \"type\": \"sport league\", \"explanation\": \"NBA is the national basketball league\"}},\\\n",
    "{{\"name\": \"Ford F150\", \"type\": \"vehicle\", \"explanation\": \"Article talks about the Ford F150 truck\"}},\\\n",
    "{{\"name\": \"Ford\", \"type\": \"company\", \"explanation\": \"Ford is a company that built vehicles\"}},\\\n",
    "{{\"name\": \"John Smith\", \"type\": \"person\", \"explanation\": \"Mentioned in the article\"}},\\\n",
    "]\"\"\"\n",
    "\n",
    "#now build the prompt following the template described above\n",
    "p7 = \"\"\n",
    "\n",
    "r7 = \"\"\n",
    "\n",
    "#compare the response of the prompt described above and a zero-shot prompt. Are there any differences?\n"
   ]
  },
  {
   "cell_type": "markdown",
   "metadata": {},
   "source": [
    "## Exercise 2: RAG (Retrieval-Augmented-Generation)\n",
    "\n",
    "RAG (Retrieval-Augmented Generation) is a powerful framework in Natural Language Processing (NLP) that enhances the performance of language models by combining traditional generative models with external knowledge retrieval. This hybrid approach allows models to retrieve relevant information from a large corpus (like a database or document collection) and incorporate this information into the generation process. It is particularly useful when a model needs to answer questions, generate content, or provide explanations based on real-time or domain-specific data.\n",
    "\n"
   ]
  },
  {
   "cell_type": "code",
   "execution_count": 193,
   "metadata": {},
   "outputs": [],
   "source": [
    "import os\n",
    "import glob\n",
    "\n",
    "\n",
    "#TODO:  Function to extract text from a PDF\n",
    "def extract_text_from_pdf(pdf_path):\n",
    "    print(\"\")\n",
    "    #your code here...\n",
    "    \n",
    "# Extract text from all uploaded PDF files\n",
    "pdf_texts = {}\n",
    "# your code here...\n",
    "\n",
    "#Display the text from all the PDF files\n",
    "for pdf_file, text in pdf_texts.items(): \n",
    "    print(\"\") #implement PDF read"
   ]
  },
  {
   "cell_type": "markdown",
   "metadata": {},
   "source": [
    "### Creating an index of vectors to represent the documents\n",
    "\n",
    "To perform efficient searches, we need to convert our text data into numerical vectors. To do so, we will use the first step of the BERT transformer.\n",
    "\n",
    "Since our full pdf files are very long to be fed as input into BERT, we perform a step in which we create a structure where we associate a document number to its abstract, and in a separate dictionary we associate a document number to its full text.\n"
   ]
  },
  {
   "cell_type": "code",
   "execution_count": null,
   "metadata": {},
   "outputs": [],
   "source": [
    "from transformers import AutoModel, AutoTokenizer\n",
    "from sklearn.metrics.pairwise import cosine_similarity\n",
    "from sklearn.metrics.pairwise import cosine_similarity\n",
    "import numpy as np\n",
    "\n",
    "\n",
    "\n",
    "\n",
    "#import the Bert pretrained model from the transformers library\n",
    "model = AutoModel.from_pretrained(\"bert-base-uncased\")\n",
    "tokenizer = AutoTokenizer.from_pretrained(\"bert-base-uncased\")\n",
    "\n",
    "#initialization of the dictionary of abstracts. Substitute this with the abstracts of the 10 papers considered as sources for RAG\n",
    "#(we could use functions to read the PDFs to \"cut\" the abstracts from the papers. For simplicity reasons, we will copy and paste them)\n",
    "abstracts_dict = {\n",
    "    0: \"\"\n",
    "}\n",
    "\n",
    "#the text for rag is used as an input to the BERT model\n",
    "\n",
    "#The tokenized inputs are passed to the BERT model for processing.\n",
    "#(#remember padding=True: Ensures that all inputs are padded to the same length, allowing batch processing.)\n",
    "#The model outputs a tensor (last_hidden_state), where each input token is represented by a high-dimensional vector.\n",
    "#last_hidden_state is of shape (batch_size, sequence_length, hidden_size), where:\n",
    "#batch_size: Number of input texts.\n",
    "#sequence_length: Length of each tokenized text (after padding).\n",
    "#hidden_size: Dimensionality of the vector representation for each token (default 768 for bert-base-uncased).\n",
    "\n",
    "#last_hidden_state[:, 0]: Selects the representation of the [CLS] token for each input text. The [CLS] token is a special token added at the start of each input and is often used as the aggregate representation for the entire sequence.\n",
    "\n",
    "abstract_vectors = \"\"\n",
    "\n",
    "#abstract_vectors is a tensor of shape (batch_size, hidden_size) (e.g., (3, 768) in this case), representing each text as a single 768-dimensional vector.\n",
    "\n",
    "print(abstract_vectors.shape)\n",
    "\n"
   ]
  },
  {
   "cell_type": "markdown",
   "metadata": {},
   "source": [
    "### Search\n",
    "\n",
    "With our text data vectorized and indexed, we can now perform searches. We will define a function to search the index for the most relevant documents based on a query.\n",
    "\n",
    "To perform the search, we need a function (search documents) where we perform the cosine similarity between the query vector and all the abstract vectors. This function will give our the top-k indexes. Once we find the top-k indexes, with another function, we can collect the full text of the documents from the paper dictionary.\n",
    "\n",
    "To compute cosine similarity, refer to the following formula\n",
    "\n",
    "```cs = cosine_similarity(vector_a.detach().numpy(), vector_b.detach().numpy())```\n",
    "\n"
   ]
  },
  {
   "cell_type": "code",
   "execution_count": 196,
   "metadata": {},
   "outputs": [],
   "source": [
    "\n",
    "\n",
    "\n",
    "\n",
    "def get_top_k_similar_indices(query_vector, abstract_vectors, k):\n",
    "    \n",
    "    #Computes the top k indices of the most similar abstracts to the query based on cosine similarity.\n",
    "    \n",
    "    #Parameters:\n",
    "    #- query_vector: A tensor of shape (1, hidden_size) representing the query vector.\n",
    "    #- abstract_vectors: A tensor of shape (batch_size, hidden_size) representing the abstract vectors.\n",
    "    #- k: The number of top indices to return.\n",
    "    \n",
    "    #Returns:\n",
    "    #- sorted_indices: A numpy array of shape (1, k) containing the indices of the top k most similar abstracts.\n",
    "    \n",
    "    return \"\"\n",
    "\n",
    "\n",
    "def retrieve_documents(indices, documents_dict):\n",
    "    \n",
    "    #Retrieves the documents corresponding to the given indices and concatenates them into a single string.\n",
    "    \n",
    "    #Parameters:\n",
    "    #- indices: A numpy array or list of top-k indices of the most similar documents.\n",
    "    #- documents_dict: A dictionary where keys are document indices (integers) and values are the document texts (strings).\n",
    "    \n",
    "    #Returns:\n",
    "    #- concatenated_documents: A string containing the concatenated texts of the retrieved documents.\n",
    "\n",
    "    return \"\"\n",
    "\n",
    "\n",
    "\n",
    "#now I create a vector also for my query \n",
    "\n",
    "query = \"\"\n",
    "\n",
    "query_vector = \"\"\n",
    "\n",
    "\n",
    "\n"
   ]
  },
  {
   "cell_type": "markdown",
   "metadata": {},
   "source": [
    "### A function to perform Retrieval Augmented Generation\n",
    "\n",
    "In this step, we’ll combine the context retrieved from our documents with LLAMA to generate responses. The context will provide the necessary information to the model to produce more accurate and relevant answers."
   ]
  },
  {
   "cell_type": "code",
   "execution_count": null,
   "metadata": {},
   "outputs": [
    {
     "name": "stdout",
     "output_type": "stream",
     "text": [
      "\n"
     ]
    }
   ],
   "source": [
    "\n",
    "\n",
    "#now we put it all together\n",
    "\n",
    "def generate_augmented_response(query, documents):\n",
    "\n",
    "    system = \"\"             #TODO: define system prompt\n",
    "\n",
    "    context = \"\"               #TODO: concatenate here all the search results\n",
    "\n",
    "    \n",
    "    prompt = \"\"                 #TODO: create the prompt for LLAMA (system + context + query)\n",
    "\n",
    "    response = \"\"\n",
    "\n",
    "    #perform a query with LLAMA in the usual way\n",
    "    \n",
    "    #return the response\n",
    "    return \"\"\n",
    "\n",
    "\n",
    "# TODO: generate the queries!\n",
    "query = \"\"\n",
    "response = generate_augmented_response(query)\n",
    "print(response)\n",
    "\n",
    "#TODO: now compare the results with a prompt without RAG. What are the results?\n"
   ]
  }
 ],
 "metadata": {
  "kernelspec": {
   "display_name": "Python 3",
   "language": "python",
   "name": "python3"
  },
  "language_info": {
   "codemirror_mode": {
    "name": "ipython",
    "version": 3
   },
   "file_extension": ".py",
   "mimetype": "text/x-python",
   "name": "python",
   "nbconvert_exporter": "python",
   "pygments_lexer": "ipython3",
   "version": "3.10.10"
  }
 },
 "nbformat": 4,
 "nbformat_minor": 2
}
